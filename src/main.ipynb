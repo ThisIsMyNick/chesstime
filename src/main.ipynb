{
 "metadata": {
  "language_info": {
   "codemirror_mode": {
    "name": "ipython",
    "version": 3
   },
   "file_extension": ".py",
   "mimetype": "text/x-python",
   "name": "python",
   "nbconvert_exporter": "python",
   "pygments_lexer": "ipython3",
   "version": "3.8.3-final"
  },
  "orig_nbformat": 2,
  "kernelspec": {
   "name": "python3",
   "display_name": "Python 3",
   "language": "python"
  }
 },
 "nbformat": 4,
 "nbformat_minor": 2,
 "cells": [
  {
   "cell_type": "code",
   "execution_count": 6,
   "metadata": {},
   "outputs": [],
   "source": [
    "#Extract games\n",
    "import asyncio\n",
    "import chess\n",
    "import chess.pgn\n",
    "import chess.engine\n",
    "\n",
    "async def find_first_blunder(game):\n",
    "    transport, engine = await chess.engine.popen_uci(\"../stockfish\")\n",
    "    sf_prev_eval = None\n",
    "    sf_eval = None\n",
    "    counter = 0\n",
    "\n",
    "    while not game.is_end() and \\\n",
    "          counter < 30 and \\\n",
    "          (not(sf_eval) or not sf_eval.is_mate()) and \\\n",
    "          (not(sf_eval and sf_prev_eval) or not abs(sf_eval.relative.score() - sf_prev_eval.relative.score()) >= 200):\n",
    "\n",
    "        sf_prev_eval = sf_eval\n",
    "        info = await engine.analyse(game.board(), chess.engine.Limit(time=0.1))\n",
    "        sf_eval = info[\"score\"]\n",
    "        game = game.next()\n",
    "        counter += 1\n",
    "\n",
    "    return counter\n",
    "\n",
    "games = []\n",
    "\n",
    "with open(\"../data/2020-11.pgn\") as f:\n",
    "    while len(games) < 10:\n",
    "        games.append(chess.pgn.read_game(f))\n",
    "\n",
    "games_list = []\n",
    "for game in games:\n",
    "    white_name = game.headers['White']\n",
    "    black_name = game.headers['Black']\n",
    "    white_elo = game.headers['WhiteElo']\n",
    "    black_elo = game.headers['BlackElo']\n",
    "    result = game.headers['Result']\n",
    "    date = game.headers['UTCDate']\n",
    "    start_time = game.headers['UTCTime']\n",
    "    #TODO: endtime calculation based on time format and moves played\n",
    "    end_time = start_time\n",
    "    first_blunder = await find_first_blunder(game)\n",
    "    \n",
    "\n",
    "    games_list.append([white_name, black_name, white_elo, black_elo, result, date, start_time, end_time, first_blunder])"
   ]
  },
  {
   "source": [
    "#Turn into pandas dataframe\n",
    "import pandas as pd\n",
    "\n",
    "df = pd.DataFrame(games_list, columns = [\"White\", \"Black\", \"WhiteElo\", \"BlackElo\", \"Result\", \"UTCDate\", \"UTCStart\", \"UTCEnd\", \"FirstBlunder\"])\n",
    "\n",
    "df"
   ],
   "cell_type": "code",
   "metadata": {},
   "execution_count": 12,
   "outputs": [
    {
     "output_type": "execute_result",
     "data": {
      "text/plain": [
       "             White              Black WhiteElo BlackElo Result     UTCDate  \\\n",
       "0           bernec            glebmai     1770     1858    0-1  2020.11.01   \n",
       "1  paranakulmichel       LordMorpheus     1964     1798    1-0  2020.11.01   \n",
       "2            eli9A       PedroSachica     1519     1864    0-1  2020.11.01   \n",
       "3        mini10201             jrdh11     1957     1211    1-0  2020.11.01   \n",
       "4          Pevojed          luisulloa     1305     1976    0-1  2020.11.01   \n",
       "5     rosaliogomez     Dennis_Vasquez     1985     1331    1-0  2020.11.01   \n",
       "6     Ares-Michael    chessnaturaleza     1344     1988    0-1  2020.11.01   \n",
       "7           KEERT7      reyrajam_2008     2009     1500    1-0  2020.11.01   \n",
       "8      DelaCruz007          matiasgGM     1750     2053    0-1  2020.11.01   \n",
       "9    DiableRouge_2  MecanismoAlterado     2042     1725    0-1  2020.11.01   \n",
       "\n",
       "   UTCStart    UTCEnd  FirstBlunder  \n",
       "0  00:00:00  00:00:00             6  \n",
       "1  00:00:00  00:00:00             8  \n",
       "2  00:00:00  00:00:00            28  \n",
       "3  00:00:00  00:00:00            13  \n",
       "4  00:00:00  00:00:00            22  \n",
       "5  00:00:00  00:00:00             1  \n",
       "6  00:00:00  00:00:00             0  \n",
       "7  00:00:00  00:00:00             1  \n",
       "8  00:00:00  00:00:00             5  \n",
       "9  00:00:00  00:00:00             0  "
      ],
      "text/html": "<div>\n<style scoped>\n    .dataframe tbody tr th:only-of-type {\n        vertical-align: middle;\n    }\n\n    .dataframe tbody tr th {\n        vertical-align: top;\n    }\n\n    .dataframe thead th {\n        text-align: right;\n    }\n</style>\n<table border=\"1\" class=\"dataframe\">\n  <thead>\n    <tr style=\"text-align: right;\">\n      <th></th>\n      <th>White</th>\n      <th>Black</th>\n      <th>WhiteElo</th>\n      <th>BlackElo</th>\n      <th>Result</th>\n      <th>UTCDate</th>\n      <th>UTCStart</th>\n      <th>UTCEnd</th>\n      <th>FirstBlunder</th>\n    </tr>\n  </thead>\n  <tbody>\n    <tr>\n      <th>0</th>\n      <td>bernec</td>\n      <td>glebmai</td>\n      <td>1770</td>\n      <td>1858</td>\n      <td>0-1</td>\n      <td>2020.11.01</td>\n      <td>00:00:00</td>\n      <td>00:00:00</td>\n      <td>6</td>\n    </tr>\n    <tr>\n      <th>1</th>\n      <td>paranakulmichel</td>\n      <td>LordMorpheus</td>\n      <td>1964</td>\n      <td>1798</td>\n      <td>1-0</td>\n      <td>2020.11.01</td>\n      <td>00:00:00</td>\n      <td>00:00:00</td>\n      <td>8</td>\n    </tr>\n    <tr>\n      <th>2</th>\n      <td>eli9A</td>\n      <td>PedroSachica</td>\n      <td>1519</td>\n      <td>1864</td>\n      <td>0-1</td>\n      <td>2020.11.01</td>\n      <td>00:00:00</td>\n      <td>00:00:00</td>\n      <td>28</td>\n    </tr>\n    <tr>\n      <th>3</th>\n      <td>mini10201</td>\n      <td>jrdh11</td>\n      <td>1957</td>\n      <td>1211</td>\n      <td>1-0</td>\n      <td>2020.11.01</td>\n      <td>00:00:00</td>\n      <td>00:00:00</td>\n      <td>13</td>\n    </tr>\n    <tr>\n      <th>4</th>\n      <td>Pevojed</td>\n      <td>luisulloa</td>\n      <td>1305</td>\n      <td>1976</td>\n      <td>0-1</td>\n      <td>2020.11.01</td>\n      <td>00:00:00</td>\n      <td>00:00:00</td>\n      <td>22</td>\n    </tr>\n    <tr>\n      <th>5</th>\n      <td>rosaliogomez</td>\n      <td>Dennis_Vasquez</td>\n      <td>1985</td>\n      <td>1331</td>\n      <td>1-0</td>\n      <td>2020.11.01</td>\n      <td>00:00:00</td>\n      <td>00:00:00</td>\n      <td>1</td>\n    </tr>\n    <tr>\n      <th>6</th>\n      <td>Ares-Michael</td>\n      <td>chessnaturaleza</td>\n      <td>1344</td>\n      <td>1988</td>\n      <td>0-1</td>\n      <td>2020.11.01</td>\n      <td>00:00:00</td>\n      <td>00:00:00</td>\n      <td>0</td>\n    </tr>\n    <tr>\n      <th>7</th>\n      <td>KEERT7</td>\n      <td>reyrajam_2008</td>\n      <td>2009</td>\n      <td>1500</td>\n      <td>1-0</td>\n      <td>2020.11.01</td>\n      <td>00:00:00</td>\n      <td>00:00:00</td>\n      <td>1</td>\n    </tr>\n    <tr>\n      <th>8</th>\n      <td>DelaCruz007</td>\n      <td>matiasgGM</td>\n      <td>1750</td>\n      <td>2053</td>\n      <td>0-1</td>\n      <td>2020.11.01</td>\n      <td>00:00:00</td>\n      <td>00:00:00</td>\n      <td>5</td>\n    </tr>\n    <tr>\n      <th>9</th>\n      <td>DiableRouge_2</td>\n      <td>MecanismoAlterado</td>\n      <td>2042</td>\n      <td>1725</td>\n      <td>0-1</td>\n      <td>2020.11.01</td>\n      <td>00:00:00</td>\n      <td>00:00:00</td>\n      <td>0</td>\n    </tr>\n  </tbody>\n</table>\n</div>"
     },
     "metadata": {},
     "execution_count": 12
    }
   ]
  }
 ]
}